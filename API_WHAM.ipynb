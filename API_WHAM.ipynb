{
 "cells": [
  {
   "cell_type": "code",
   "execution_count": null,
   "id": "84d983b6",
   "metadata": {},
   "outputs": [],
   "source": []
  },
  {
   "cell_type": "code",
   "execution_count": 1,
   "id": "995bd636",
   "metadata": {},
   "outputs": [
    {
     "name": "stderr",
     "output_type": "stream",
     "text": [
      "/home/epikskool/miniconda3/envs/anim/lib/python3.11/site-packages/timm/models/layers/__init__.py:48: FutureWarning: Importing from timm.models.layers is deprecated, please import via timm.layers\n",
      "  warnings.warn(f\"Importing from {__name__} is deprecated, please import via timm.layers\", FutureWarning)\n",
      "\u001b[32m2025-05-02 11:56:07.592\u001b[0m | \u001b[1mINFO    \u001b[0m | \u001b[36mwham.models\u001b[0m:\u001b[36mbuild_network\u001b[0m:\u001b[36m43\u001b[0m - \u001b[1m=> Warning! no checkpoint found at 'checkpoints/wham_vit_bedlam_w_3dpw.pth.tar'.\u001b[0m\n"
     ]
    },
    {
     "ename": "TypeError",
     "evalue": "DetectionModel.__init__() missing 1 required positional argument: 'mmpose_cfg'",
     "output_type": "error",
     "traceback": [
      "\u001b[31m---------------------------------------------------------------------------\u001b[39m",
      "\u001b[31mTypeError\u001b[39m                                 Traceback (most recent call last)",
      "\u001b[36mCell\u001b[39m\u001b[36m \u001b[39m\u001b[32mIn[1]\u001b[39m\u001b[32m, line 3\u001b[39m\n\u001b[32m      1\u001b[39m \u001b[38;5;66;03m# config.py, yamls - wham_api\u001b[39;00m\n\u001b[32m      2\u001b[39m \u001b[38;5;28;01mfrom\u001b[39;00m\u001b[38;5;250m \u001b[39m\u001b[34;01mwham_api\u001b[39;00m\u001b[38;5;250m \u001b[39m\u001b[38;5;28;01mimport\u001b[39;00m WHAM_API\n\u001b[32m----> \u001b[39m\u001b[32m3\u001b[39m wham_model = \u001b[43mWHAM_API\u001b[49m\u001b[43m(\u001b[49m\u001b[43m)\u001b[49m\n",
      "\u001b[36mFile \u001b[39m\u001b[32m~/workspace/workdir/DETR/wham_api.py:54\u001b[39m, in \u001b[36mWHAM_API.__init__\u001b[39m\u001b[34m(self)\u001b[39m\n\u001b[32m     52\u001b[39m \u001b[38;5;28mself\u001b[39m.network = build_network(\u001b[38;5;28mself\u001b[39m.cfg, build_body_model(\u001b[38;5;28mself\u001b[39m.cfg.DEVICE, \u001b[38;5;28mself\u001b[39m.cfg.TRAIN.BATCH_SIZE * \u001b[38;5;28mself\u001b[39m.cfg.DATASET.SEQLEN))\n\u001b[32m     53\u001b[39m \u001b[38;5;28mself\u001b[39m.network.eval()\n\u001b[32m---> \u001b[39m\u001b[32m54\u001b[39m \u001b[38;5;28mself\u001b[39m.detector = \u001b[43mDetectionModel\u001b[49m\u001b[43m(\u001b[49m\u001b[38;5;28;43mself\u001b[39;49m\u001b[43m.\u001b[49m\u001b[43mcfg\u001b[49m\u001b[43m.\u001b[49m\u001b[43mDEVICE\u001b[49m\u001b[43m.\u001b[49m\u001b[43mlower\u001b[49m\u001b[43m(\u001b[49m\u001b[43m)\u001b[49m\u001b[43m)\u001b[49m\n\u001b[32m     55\u001b[39m \u001b[38;5;28mself\u001b[39m.extractor = FeatureExtractor(\u001b[38;5;28mself\u001b[39m.cfg.DEVICE.lower())\n\u001b[32m     56\u001b[39m \u001b[38;5;28mself\u001b[39m.slam = \u001b[38;5;28;01mNone\u001b[39;00m\n",
      "\u001b[31mTypeError\u001b[39m: DetectionModel.__init__() missing 1 required positional argument: 'mmpose_cfg'"
     ]
    }
   ],
   "source": [
    "# config.py, yamls - wham_api\n",
    "from wham_api import WHAM_API\n",
    "wham_model = WHAM_API()"
   ]
  },
  {
   "cell_type": "code",
   "execution_count": null,
   "id": "03cee807",
   "metadata": {},
   "outputs": [],
   "source": [
    "import yt_dlp\n",
    "url = \"https://www.tiktok.com/@so._.ya_/video/7493762554888539400?q=%EC%B6%A4&t=1744863380603\"\n",
    "ydl_opts = {'outtmpl': 'tiktok_video.mp4'}\n",
    "\n",
    "with yt_dlp.YoutubeDL(ydl_opts) as ydl:\n",
    "    ydl.download([url])"
   ]
  },
  {
   "cell_type": "code",
   "execution_count": null,
   "id": "ec933f24",
   "metadata": {},
   "outputs": [],
   "source": [
    "input_video_path = 'tiktok_video.mp4'\n",
    "results, tracking_results, slam_results = wham_model(input_video_path)"
   ]
  },
  {
   "cell_type": "code",
   "execution_count": null,
   "id": "7eb8de73",
   "metadata": {},
   "outputs": [],
   "source": [
    "results[0].keys()"
   ]
  },
  {
   "cell_type": "code",
   "execution_count": null,
   "id": "89b83cfa",
   "metadata": {},
   "outputs": [],
   "source": [
    "results[0]['pose'], results[0]['pose'].shape"
   ]
  },
  {
   "cell_type": "code",
   "execution_count": null,
   "id": "69017ebc",
   "metadata": {},
   "outputs": [],
   "source": [
    "results[0]['trans'], results[0]['trans'].shape"
   ]
  },
  {
   "cell_type": "code",
   "execution_count": null,
   "id": "08effa72",
   "metadata": {},
   "outputs": [],
   "source": [
    "results[0]['betas'], results[0]['betas'].shape"
   ]
  },
  {
   "cell_type": "code",
   "execution_count": null,
   "id": "8e5dc674",
   "metadata": {},
   "outputs": [],
   "source": [
    "results[0]['frame_ids'], results[0]['frame_ids'].shape"
   ]
  },
  {
   "cell_type": "code",
   "execution_count": null,
   "id": "dd429858",
   "metadata": {},
   "outputs": [],
   "source": [
    "import numpy as np\n",
    "np.save(f'output/{input_video_path.split(\".\")[0]}_output.npy', results)"
   ]
  },
  {
   "cell_type": "markdown",
   "id": "fc6de282",
   "metadata": {},
   "source": [
    "## 포즈 추출"
   ]
  },
  {
   "cell_type": "code",
   "execution_count": null,
   "id": "13f1fff5",
   "metadata": {},
   "outputs": [],
   "source": [
    "!python demo.py --video tiktok_video.mp4 --visualize --run_smplify --save_pkl"
   ]
  },
  {
   "cell_type": "code",
   "execution_count": null,
   "id": "d62fd199",
   "metadata": {},
   "outputs": [],
   "source": [
    "def show_local_mp4_video(file_name, width=640, height=480):\n",
    "  import io\n",
    "  import base64\n",
    "  from IPython.display import HTML\n",
    "  video_encoded = base64.b64encode(io.open(file_name, 'rb').read())\n",
    "  return HTML(data='''<video width=\"{0}\" height=\"{1}\" alt=\"test\" controls>\n",
    "                        <source src=\"data:video/mp4;base64,{2}\" type=\"video/mp4\" />\n",
    "                      </video>'''.format(width, height, video_encoded.decode('ascii')))"
   ]
  },
  {
   "cell_type": "code",
   "execution_count": null,
   "id": "dc41f98e",
   "metadata": {},
   "outputs": [],
   "source": [
    "show_local_mp4_video('output/demo/tiktok_video/tiktok_video_output.mp4', 640, 480)"
   ]
  },
  {
   "cell_type": "markdown",
   "id": "38387114",
   "metadata": {},
   "source": [
    "## 포즈 캡처 npz 파일 보기"
   ]
  },
  {
   "cell_type": "code",
   "execution_count": null,
   "id": "2f0bba6f",
   "metadata": {},
   "outputs": [],
   "source": [
    "import numpy as np\n",
    "npyfile = np.load('output/demo/tiktok_video/tiktok_video.mp4_output.npz', allow_pickle=True)"
   ]
  },
  {
   "cell_type": "code",
   "execution_count": null,
   "id": "76b7b609",
   "metadata": {},
   "outputs": [],
   "source": [
    "type(npyfile)"
   ]
  },
  {
   "cell_type": "code",
   "execution_count": null,
   "id": "2e1757b0",
   "metadata": {},
   "outputs": [],
   "source": [
    "npyfile.files"
   ]
  },
  {
   "cell_type": "code",
   "execution_count": null,
   "id": "07d1c9ad",
   "metadata": {},
   "outputs": [],
   "source": [
    "arr = npyfile['arr_0']\n",
    "data = arr.item()"
   ]
  },
  {
   "cell_type": "code",
   "execution_count": null,
   "id": "fd0893a1",
   "metadata": {},
   "outputs": [],
   "source": [
    "data[0].keys()"
   ]
  },
  {
   "cell_type": "code",
   "execution_count": null,
   "id": "0803cb64",
   "metadata": {},
   "outputs": [],
   "source": [
    "data[0]['pose'].shape"
   ]
  },
  {
   "cell_type": "code",
   "execution_count": null,
   "id": "cec2085c",
   "metadata": {},
   "outputs": [],
   "source": [
    "data[0]['pose']"
   ]
  },
  {
   "cell_type": "code",
   "execution_count": null,
   "id": "aba10f78",
   "metadata": {},
   "outputs": [],
   "source": [
    "data[0]['trans'].shape"
   ]
  },
  {
   "cell_type": "code",
   "execution_count": null,
   "id": "aea47c37",
   "metadata": {},
   "outputs": [],
   "source": [
    "data[0]['trans']"
   ]
  },
  {
   "cell_type": "code",
   "execution_count": null,
   "id": "bdb66fd9",
   "metadata": {},
   "outputs": [],
   "source": [
    "data[0]['pose_world'].shape"
   ]
  },
  {
   "cell_type": "code",
   "execution_count": null,
   "id": "89bceb8d",
   "metadata": {},
   "outputs": [],
   "source": [
    "data[0]['pose_world']"
   ]
  },
  {
   "cell_type": "code",
   "execution_count": null,
   "id": "8d58dc25",
   "metadata": {},
   "outputs": [],
   "source": [
    "data[0]['trans_world'].shape"
   ]
  },
  {
   "cell_type": "code",
   "execution_count": null,
   "id": "272e2044",
   "metadata": {},
   "outputs": [],
   "source": [
    "data[0]['trans_world']"
   ]
  },
  {
   "cell_type": "code",
   "execution_count": null,
   "id": "6cacd4eb",
   "metadata": {},
   "outputs": [],
   "source": [
    "data[0]['betas'].shape"
   ]
  },
  {
   "cell_type": "code",
   "execution_count": null,
   "id": "8f702db0",
   "metadata": {},
   "outputs": [],
   "source": [
    "data[0]['betas']"
   ]
  },
  {
   "cell_type": "code",
   "execution_count": null,
   "id": "14b97af3",
   "metadata": {},
   "outputs": [],
   "source": []
  }
 ],
 "metadata": {
  "kernelspec": {
   "display_name": "anim",
   "language": "python",
   "name": "python3"
  },
  "language_info": {
   "codemirror_mode": {
    "name": "ipython",
    "version": 3
   },
   "file_extension": ".py",
   "mimetype": "text/x-python",
   "name": "python",
   "nbconvert_exporter": "python",
   "pygments_lexer": "ipython3",
   "version": "3.11.11"
  }
 },
 "nbformat": 4,
 "nbformat_minor": 5
}
