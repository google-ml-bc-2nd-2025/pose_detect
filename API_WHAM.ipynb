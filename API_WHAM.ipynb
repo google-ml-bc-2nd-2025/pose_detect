{
 "cells": [
  {
   "cell_type": "code",
   "execution_count": null,
   "id": "995bd636",
   "metadata": {},
   "outputs": [],
   "source": [
    "# config.py, yamls - wham_api \n",
    "#from wham_api import WHAM_API\n",
    "#wham_model = WHAM_API()"
   ]
  },
  {
   "cell_type": "code",
   "execution_count": null,
   "id": "03cee807",
   "metadata": {},
   "outputs": [],
   "source": [
    "import yt_dlp\n",
    "url = \"https://www.tiktok.com/@so._.ya_/video/7493762554888539400?q=%EC%B6%A4&t=1744863380603\"\n",
    "ydl_opts = {'outtmpl': 'tiktok_video.mp4'}\n",
    "\n",
    "with yt_dlp.YoutubeDL(ydl_opts) as ydl:\n",
    "    ydl.download([url])"
   ]
  },
  {
   "cell_type": "code",
   "execution_count": null,
   "id": "ec933f24",
   "metadata": {},
   "outputs": [],
   "source": [
    "#input_video_path = 'tiktok_video.mp4'\n",
    "#results, tracking_results, slam_results = wham_model(input_video_path)"
   ]
  },
  {
   "cell_type": "code",
   "execution_count": null,
   "id": "3b21023a",
   "metadata": {},
   "outputs": [],
   "source": [
    "#results[0]['poses_body'].shape"
   ]
  },
  {
   "cell_type": "markdown",
   "id": "fc6de282",
   "metadata": {},
   "source": [
    "## 포즈 추출"
   ]
  },
  {
   "cell_type": "code",
   "execution_count": 2,
   "id": "13f1fff5",
   "metadata": {},
   "outputs": [
    {
     "name": "stdout",
     "output_type": "stream",
     "text": [
      "apex is not installed\n",
      "apex is not installed\n",
      "apex is not installed\n",
      "/home/epikskool/miniconda3/envs/detr/lib/python3.9/site-packages/mmcv/cnn/bricks/transformer.py:27: UserWarning: Fail to import ``MultiScaleDeformableAttention`` from ``mmcv.ops.multi_scale_deform_attn``, You should install ``mmcv-full`` if you need this module. \n",
      "  warnings.warn('Fail to import ``MultiScaleDeformableAttention`` from '\n",
      "\u001b[32m2025-04-22 17:01:49.620\u001b[0m | \u001b[1mINFO    \u001b[0m | \u001b[36m__main__\u001b[0m:\u001b[36m<module>\u001b[0m:\u001b[36m210\u001b[0m - \u001b[1mGPU name -> NVIDIA GeForce RTX 4090\u001b[0m\n",
      "\u001b[32m2025-04-22 17:01:49.620\u001b[0m | \u001b[1mINFO    \u001b[0m | \u001b[36m__main__\u001b[0m:\u001b[36m<module>\u001b[0m:\u001b[36m211\u001b[0m - \u001b[1mGPU feat -> _CudaDeviceProperties(name='NVIDIA GeForce RTX 4090', major=8, minor=9, total_memory=24563MB, multi_processor_count=128)\u001b[0m\n",
      "\u001b[32m2025-04-22 17:01:50.002\u001b[0m | \u001b[1mINFO    \u001b[0m | \u001b[36mlib.models\u001b[0m:\u001b[36mbuild_network\u001b[0m:\u001b[36m36\u001b[0m - \u001b[1m=> loaded checkpoint 'checkpoints/wham_vit_bedlam_w_3dpw.pth.tar' \u001b[0m\n",
      "Use load_from_local loader\n",
      "Load backbone weight: /home/epikskool/workspace/workdir/WHAM/checkpoints/hmr2a.ckpt\n",
      "/home/epikskool/workspace/workdir/WHAM/lib/models/preproc/backbone/smpl_head.py:25: UserWarning: Using torch.cross without specifying the dim arg is deprecated.\n",
      "Please either pass the dim explicitly or simply use torch.linalg.cross.\n",
      "The default value of dim will change to agree with that of linalg.cross in a future release. (Triggered internally at /opt/conda/conda-bld/pytorch_1716905969824/work/aten/src/ATen/native/Cross.cpp:62.)\n",
      "  b3 = torch.cross(b1, b2)\n",
      "Feature extraction ... |################################| 1028/1028\u001b[?25h\u001b[32m2025-04-22 17:04:22.894\u001b[0m | \u001b[1mINFO    \u001b[0m | \u001b[36m__main__\u001b[0m:\u001b[36mrun\u001b[0m:\u001b[36m84\u001b[0m - \u001b[1mComplete Data preprocessing!\u001b[0m\n",
      "\u001b[32m2025-04-22 17:04:22.899\u001b[0m | \u001b[1mINFO    \u001b[0m | \u001b[36m__main__\u001b[0m:\u001b[36mrun\u001b[0m:\u001b[36m89\u001b[0m - \u001b[1mSave processed data at output/demo/tiktok_video\u001b[0m\n",
      "\u001b[?25h                                                                          \n",
      "\u001b[32m2025-04-22 17:04:32.520\u001b[0m | \u001b[1mINFO    \u001b[0m | \u001b[36m__main__\u001b[0m:\u001b[36m<module>\u001b[0m:\u001b[36m234\u001b[0m - \u001b[1mDone !\u001b[0m\n"
     ]
    }
   ],
   "source": [
    "!python demo.py --video tiktok_video.mp4 --run_smplify --save_pkl # yamlize"
   ]
  },
  {
   "cell_type": "markdown",
   "id": "38387114",
   "metadata": {},
   "source": [
    "## 포즈 캡처 npz 파일 보기"
   ]
  },
  {
   "cell_type": "code",
   "execution_count": 5,
   "id": "2f0bba6f",
   "metadata": {},
   "outputs": [],
   "source": [
    "import numpy as np\n",
    "npyfile = np.load('output/demo/tiktok_video/tiktok_video.mp4_output.npz', allow_pickle=True)"
   ]
  },
  {
   "cell_type": "code",
   "execution_count": 6,
   "id": "76b7b609",
   "metadata": {},
   "outputs": [
    {
     "data": {
      "text/plain": [
       "numpy.lib.npyio.NpzFile"
      ]
     },
     "execution_count": 6,
     "metadata": {},
     "output_type": "execute_result"
    }
   ],
   "source": [
    "type(npyfile)"
   ]
  },
  {
   "cell_type": "code",
   "execution_count": 7,
   "id": "2e1757b0",
   "metadata": {},
   "outputs": [
    {
     "data": {
      "text/plain": [
       "['arr_0']"
      ]
     },
     "execution_count": 7,
     "metadata": {},
     "output_type": "execute_result"
    }
   ],
   "source": [
    "npyfile.files"
   ]
  },
  {
   "cell_type": "code",
   "execution_count": 8,
   "id": "07d1c9ad",
   "metadata": {},
   "outputs": [],
   "source": [
    "arr = npyfile['arr_0']\n",
    "data = arr.item()"
   ]
  },
  {
   "cell_type": "code",
   "execution_count": 9,
   "id": "fd0893a1",
   "metadata": {},
   "outputs": [
    {
     "data": {
      "text/plain": [
       "dict_keys(['pose', 'trans', 'betas', 'frame_ids'])"
      ]
     },
     "execution_count": 9,
     "metadata": {},
     "output_type": "execute_result"
    }
   ],
   "source": [
    "data[0].keys()"
   ]
  },
  {
   "cell_type": "code",
   "execution_count": 10,
   "id": "0803cb64",
   "metadata": {},
   "outputs": [
    {
     "data": {
      "text/plain": [
       "(1028, 72)"
      ]
     },
     "execution_count": 10,
     "metadata": {},
     "output_type": "execute_result"
    }
   ],
   "source": [
    "data[0]['pose'].shape"
   ]
  },
  {
   "cell_type": "code",
   "execution_count": 11,
   "id": "cec2085c",
   "metadata": {},
   "outputs": [
    {
     "data": {
      "text/plain": [
       "array([[ 3.10430670e+00,  2.58179065e-02,  8.68467521e-03, ...,\n",
       "        -4.41313498e-02,  4.79955226e-02,  1.34233698e-01],\n",
       "       [ 3.09337044e+00,  2.43225545e-02,  1.05235921e-02, ...,\n",
       "        -1.61161590e-02,  5.71359619e-02,  1.04742683e-01],\n",
       "       [ 3.09216142e+00,  2.26763859e-02,  9.67452489e-03, ...,\n",
       "        -2.22156700e-02,  5.36183491e-02,  1.04706667e-01],\n",
       "       ...,\n",
       "       [ 3.00790381e+00,  2.56031826e-02, -2.80887093e-02, ...,\n",
       "        -1.19120367e-01,  2.91516935e-03,  2.23170727e-01],\n",
       "       [ 3.00983047e+00,  2.21225005e-02, -2.87950635e-02, ...,\n",
       "        -1.19313546e-01,  2.79690675e-03,  2.23183319e-01],\n",
       "       [ 3.00785923e+00,  2.37666853e-02, -2.87496857e-02, ...,\n",
       "        -1.19245097e-01,  2.73671164e-03,  2.23117843e-01]], dtype=float32)"
      ]
     },
     "execution_count": 11,
     "metadata": {},
     "output_type": "execute_result"
    }
   ],
   "source": [
    "data[0]['pose']"
   ]
  },
  {
   "cell_type": "code",
   "execution_count": 12,
   "id": "aba10f78",
   "metadata": {},
   "outputs": [
    {
     "data": {
      "text/plain": [
       "(1028, 3)"
      ]
     },
     "execution_count": 12,
     "metadata": {},
     "output_type": "execute_result"
    }
   ],
   "source": [
    "data[0]['trans'].shape"
   ]
  },
  {
   "cell_type": "code",
   "execution_count": 13,
   "id": "aea47c37",
   "metadata": {},
   "outputs": [
    {
     "data": {
      "text/plain": [
       "array([[-3.1549763e-03,  1.0174209e-01,  2.9434803e+00],\n",
       "       [-4.4638664e-03,  9.7630523e-02,  2.9496882e+00],\n",
       "       [-3.6835670e-03,  9.4866008e-02,  2.9515071e+00],\n",
       "       ...,\n",
       "       [-2.0068111e-03,  6.1925601e-02,  2.9616959e+00],\n",
       "       [ 4.9680565e-04,  6.1555102e-02,  2.9625630e+00],\n",
       "       [-5.5578211e-04,  6.2395584e-02,  2.9601619e+00]], dtype=float32)"
      ]
     },
     "execution_count": 13,
     "metadata": {},
     "output_type": "execute_result"
    }
   ],
   "source": [
    "data[0]['trans']"
   ]
  },
  {
   "cell_type": "code",
   "execution_count": 16,
   "id": "6cacd4eb",
   "metadata": {},
   "outputs": [
    {
     "data": {
      "text/plain": [
       "(1028, 10)"
      ]
     },
     "execution_count": 16,
     "metadata": {},
     "output_type": "execute_result"
    }
   ],
   "source": [
    "data[0]['betas'].shape"
   ]
  },
  {
   "cell_type": "code",
   "execution_count": 17,
   "id": "8f702db0",
   "metadata": {},
   "outputs": [
    {
     "data": {
      "text/plain": [
       "array([[ 0.05011236,  1.3054744 ,  0.54989946, ...,  0.83006734,\n",
       "         0.41350502,  0.3950795 ],\n",
       "       [ 0.00448683,  1.3873546 ,  0.7589375 , ...,  1.1162362 ,\n",
       "         0.58239925,  0.6346429 ],\n",
       "       [-0.02101943,  1.3960319 ,  0.82615495, ...,  1.0651929 ,\n",
       "         0.6264393 ,  0.6493278 ],\n",
       "       ...,\n",
       "       [-0.11226956,  1.5354526 , -0.44505608, ...,  0.80958915,\n",
       "         1.4308169 , -0.40353408],\n",
       "       [-0.11057475,  1.5349349 , -0.4453251 , ...,  0.8126358 ,\n",
       "         1.4279759 , -0.40228727],\n",
       "       [-0.10938658,  1.5348129 , -0.44560805, ...,  0.8175827 ,\n",
       "         1.4252038 , -0.40021837]], dtype=float32)"
      ]
     },
     "execution_count": 17,
     "metadata": {},
     "output_type": "execute_result"
    }
   ],
   "source": [
    "data[0]['betas']"
   ]
  },
  {
   "cell_type": "code",
   "execution_count": null,
   "id": "14b97af3",
   "metadata": {},
   "outputs": [],
   "source": []
  }
 ],
 "metadata": {
  "kernelspec": {
   "display_name": "detr",
   "language": "python",
   "name": "python3"
  },
  "language_info": {
   "codemirror_mode": {
    "name": "ipython",
    "version": 3
   },
   "file_extension": ".py",
   "mimetype": "text/x-python",
   "name": "python",
   "nbconvert_exporter": "python",
   "pygments_lexer": "ipython3",
   "version": "3.9.21"
  }
 },
 "nbformat": 4,
 "nbformat_minor": 5
}
